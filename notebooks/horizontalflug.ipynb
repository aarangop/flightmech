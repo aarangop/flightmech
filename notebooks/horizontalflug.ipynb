{
 "cells": [
  {
   "cell_type": "code",
   "execution_count": null,
   "metadata": {
    "collapsed": true,
    "pycharm": {
     "name": "#%%\n"
    }
   },
   "outputs": [],
   "source": [
    "from flightmech.aircraft import Aircraft\n",
    "from flightmech.propeller import Propeller\n",
    "\n",
    "prop = Propeller(d=2, zeta=0.7, P_max=90e3)\n",
    "ac = Aircraft(S=197, b=65, prop=prop, n_prop=2, C_A_alpha=0.0947, C_A_0=0.253)\n",
    "\n"
   ]
  }
 ],
 "metadata": {
  "kernelspec": {
   "display_name": "Python 3",
   "language": "python",
   "name": "python3"
  },
  "language_info": {
   "codemirror_mode": {
    "name": "ipython",
    "version": 2
   },
   "file_extension": ".py",
   "mimetype": "text/x-python",
   "name": "python",
   "nbconvert_exporter": "python",
   "pygments_lexer": "ipython2",
   "version": "2.7.6"
  }
 },
 "nbformat": 4,
 "nbformat_minor": 0
}